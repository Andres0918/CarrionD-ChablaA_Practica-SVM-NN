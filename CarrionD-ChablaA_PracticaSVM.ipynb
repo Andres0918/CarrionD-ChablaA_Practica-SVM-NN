{
 "cells": [
  {
   "cell_type": "markdown",
   "id": "6c5ec6ad",
   "metadata": {},
   "source": []
  },
  {
   "cell_type": "code",
   "execution_count": 1,
   "id": "78a35337",
   "metadata": {},
   "outputs": [
    {
     "name": "stdout",
     "output_type": "stream",
     "text": [
      "Note: you may need to restart the kernel to use updated packages.\n"
     ]
    },
    {
     "name": "stderr",
     "output_type": "stream",
     "text": [
      "WARNING: You are using pip version 21.2.3; however, version 25.1.1 is available.\n",
      "You should consider upgrading via the 'c:\\Users\\dcpor\\AppData\\Local\\Programs\\Python\\Python310\\python.exe -m pip install --upgrade pip' command.\n"
     ]
    }
   ],
   "source": [
    "%pip install --quiet pandas numpy matplotlib scikit-learn keras tensorflow"
   ]
  },
  {
   "cell_type": "code",
   "execution_count": 9,
   "id": "875e08a0",
   "metadata": {},
   "outputs": [
    {
     "name": "stdout",
     "output_type": "stream",
     "text": [
      "Librerias cargadas correctamente\n"
     ]
    }
   ],
   "source": [
    "import pandas as pd\n",
    "import numpy as np\n",
    "import matplotlib.pyplot as plt \n",
    "from keras.models import Sequential\n",
    "from keras.layers import Dense, Dropout\n",
    "from sklearn.model_selection import train_test_split\n",
    "from sklearn.preprocessing import StandardScaler, LabelEncoder\n",
    "from tensorflow.keras.models import Sequential\n",
    "from tensorflow.keras.layers import Dense\n",
    "# Load the dataset\n",
    "print(\"Librerias cargadas correctamente\")"
   ]
  },
  {
   "cell_type": "markdown",
   "id": "a6392221",
   "metadata": {},
   "source": [
    "## Carga y exploración del dataset\n",
    "\n",
    "#### Qué hace:\n",
    "Carga el dataset de intenciones de compra en línea y muestra los primeros registros y distribución de la variable objetivo (Revenue).\n",
    "\n",
    "#### Técnicas:\n",
    "Lectura de CSV con pandas, análisis exploratorio simple."
   ]
  },
  {
   "cell_type": "code",
   "execution_count": 13,
   "id": "1a5e0546",
   "metadata": {},
   "outputs": [
    {
     "name": "stdout",
     "output_type": "stream",
     "text": [
      "   Administrative  Administrative_Duration  Informational  \\\n",
      "0               0                      0.0              0   \n",
      "1               0                      0.0              0   \n",
      "2               0                      0.0              0   \n",
      "3               0                      0.0              0   \n",
      "4               0                      0.0              0   \n",
      "\n",
      "   Informational_Duration  ProductRelated  ProductRelated_Duration  \\\n",
      "0                     0.0               1                 0.000000   \n",
      "1                     0.0               2                64.000000   \n",
      "2                     0.0               1                 0.000000   \n",
      "3                     0.0               2                 2.666667   \n",
      "4                     0.0              10               627.500000   \n",
      "\n",
      "   BounceRates  ExitRates  PageValues  SpecialDay Month  OperatingSystems  \\\n",
      "0         0.20       0.20         0.0         0.0   Feb                 1   \n",
      "1         0.00       0.10         0.0         0.0   Feb                 2   \n",
      "2         0.20       0.20         0.0         0.0   Feb                 4   \n",
      "3         0.05       0.14         0.0         0.0   Feb                 3   \n",
      "4         0.02       0.05         0.0         0.0   Feb                 3   \n",
      "\n",
      "   Browser  Region  TrafficType        VisitorType  Weekend  Revenue  \n",
      "0        1       1            1  Returning_Visitor    False    False  \n",
      "1        2       1            2  Returning_Visitor    False    False  \n",
      "2        1       9            3  Returning_Visitor    False    False  \n",
      "3        2       2            4  Returning_Visitor    False    False  \n",
      "4        3       1            4  Returning_Visitor     True    False  \n",
      "Revenue\n",
      "False    10422\n",
      "True      1908\n",
      "Name: count, dtype: int64\n"
     ]
    }
   ],
   "source": [
    "# Cargar dataset\n",
    "df = pd.read_csv(\"online_shoppers_intention.csv\")\n",
    "\n",
    "# Ver primeros registros\n",
    "print(df.head())\n",
    "\n",
    "# Revisar clases objetivo\n",
    "print(df['Revenue'].value_counts())"
   ]
  },
  {
   "cell_type": "markdown",
   "id": "cc618b45",
   "metadata": {},
   "source": [
    "## Preprocesamiento de datos\n",
    "\n",
    "#### Qué hace:\n",
    "Convierte etiquetas a enteros, codifica variables categóricas, divide en entrenamiento/test y normaliza los datos.\n",
    "\n",
    "#### Técnicas:\n",
    "\n",
    "- Codificación One-Hot (get_dummies)\n",
    "\n",
    "- Escalado Z (StandardScaler)\n",
    "\n",
    "- Separación de conjuntos (train_test_split)"
   ]
  },
  {
   "cell_type": "code",
   "execution_count": 14,
   "id": "712616b4",
   "metadata": {},
   "outputs": [],
   "source": [
    "# Convertir etiquetas a 0/1\n",
    "df['Revenue'] = df['Revenue'].astype(int)\n",
    "\n",
    "# Codificar variables categóricas\n",
    "df = pd.get_dummies(df)\n",
    "\n",
    "# Separar variables y target\n",
    "X = df.drop('Revenue', axis=1)\n",
    "y = df['Revenue']\n",
    "\n",
    "# Dividir en training/test\n",
    "X_train, X_test, y_train, y_test = train_test_split(X, y, test_size=0.2, random_state=42)\n",
    "\n",
    "# Escalado\n",
    "scaler = StandardScaler()\n",
    "X_train = scaler.fit_transform(X_train)\n",
    "X_test = scaler.transform(X_test)"
   ]
  },
  {
   "cell_type": "markdown",
   "id": "cdd4654e",
   "metadata": {},
   "source": [
    "## Red Neuronal Multicapa (MLP)\n",
    "\n",
    "## Qué hace:\n",
    "Define y entrena una red neuronal para clasificación binaria.\n",
    "\n",
    "## Técnicas:\n",
    "\n",
    "- Red densa (MLP)\n",
    "\n",
    "- Función de activación ReLU y sigmoid\n",
    "\n",
    "- Optimización con Adam y pérdida binaria\n",
    "\n",
    "- Validación durante el entrenamiento"
   ]
  },
  {
   "cell_type": "code",
   "execution_count": 17,
   "id": "f66c98a5",
   "metadata": {},
   "outputs": [
    {
     "name": "stdout",
     "output_type": "stream",
     "text": [
      "Epoch 1/10\n"
     ]
    },
    {
     "name": "stderr",
     "output_type": "stream",
     "text": [
      "c:\\Users\\dcpor\\AppData\\Local\\Programs\\Python\\Python310\\lib\\site-packages\\keras\\src\\layers\\core\\dense.py:93: UserWarning: Do not pass an `input_shape`/`input_dim` argument to a layer. When using Sequential models, prefer using an `Input(shape)` object as the first layer in the model instead.\n",
      "  super().__init__(activity_regularizer=activity_regularizer, **kwargs)\n"
     ]
    },
    {
     "name": "stdout",
     "output_type": "stream",
     "text": [
      "\u001b[1m278/278\u001b[0m \u001b[32m━━━━━━━━━━━━━━━━━━━━\u001b[0m\u001b[37m\u001b[0m \u001b[1m1s\u001b[0m 2ms/step - accuracy: 0.8559 - loss: 0.3815 - val_accuracy: 0.8804 - val_loss: 0.2806\n",
      "Epoch 2/10\n",
      "\u001b[1m278/278\u001b[0m \u001b[32m━━━━━━━━━━━━━━━━━━━━\u001b[0m\u001b[37m\u001b[0m \u001b[1m0s\u001b[0m 2ms/step - accuracy: 0.8908 - loss: 0.2666 - val_accuracy: 0.8825 - val_loss: 0.2651\n",
      "Epoch 3/10\n",
      "\u001b[1m278/278\u001b[0m \u001b[32m━━━━━━━━━━━━━━━━━━━━\u001b[0m\u001b[37m\u001b[0m \u001b[1m1s\u001b[0m 2ms/step - accuracy: 0.9056 - loss: 0.2362 - val_accuracy: 0.8855 - val_loss: 0.2572\n",
      "Epoch 4/10\n",
      "\u001b[1m278/278\u001b[0m \u001b[32m━━━━━━━━━━━━━━━━━━━━\u001b[0m\u001b[37m\u001b[0m \u001b[1m1s\u001b[0m 2ms/step - accuracy: 0.9058 - loss: 0.2277 - val_accuracy: 0.8875 - val_loss: 0.2555\n",
      "Epoch 5/10\n",
      "\u001b[1m278/278\u001b[0m \u001b[32m━━━━━━━━━━━━━━━━━━━━\u001b[0m\u001b[37m\u001b[0m \u001b[1m1s\u001b[0m 2ms/step - accuracy: 0.9064 - loss: 0.2292 - val_accuracy: 0.8926 - val_loss: 0.2491\n",
      "Epoch 6/10\n",
      "\u001b[1m278/278\u001b[0m \u001b[32m━━━━━━━━━━━━━━━━━━━━\u001b[0m\u001b[37m\u001b[0m \u001b[1m1s\u001b[0m 2ms/step - accuracy: 0.9080 - loss: 0.2196 - val_accuracy: 0.8936 - val_loss: 0.2542\n",
      "Epoch 7/10\n",
      "\u001b[1m278/278\u001b[0m \u001b[32m━━━━━━━━━━━━━━━━━━━━\u001b[0m\u001b[37m\u001b[0m \u001b[1m1s\u001b[0m 2ms/step - accuracy: 0.9089 - loss: 0.2193 - val_accuracy: 0.8926 - val_loss: 0.2490\n",
      "Epoch 8/10\n",
      "\u001b[1m278/278\u001b[0m \u001b[32m━━━━━━━━━━━━━━━━━━━━\u001b[0m\u001b[37m\u001b[0m \u001b[1m1s\u001b[0m 2ms/step - accuracy: 0.9129 - loss: 0.2117 - val_accuracy: 0.8875 - val_loss: 0.2590\n",
      "Epoch 9/10\n",
      "\u001b[1m278/278\u001b[0m \u001b[32m━━━━━━━━━━━━━━━━━━━━\u001b[0m\u001b[37m\u001b[0m \u001b[1m0s\u001b[0m 2ms/step - accuracy: 0.9168 - loss: 0.2017 - val_accuracy: 0.8764 - val_loss: 0.2546\n",
      "Epoch 10/10\n",
      "\u001b[1m278/278\u001b[0m \u001b[32m━━━━━━━━━━━━━━━━━━━━\u001b[0m\u001b[37m\u001b[0m \u001b[1m0s\u001b[0m 2ms/step - accuracy: 0.9140 - loss: 0.2070 - val_accuracy: 0.8835 - val_loss: 0.2515\n"
     ]
    },
    {
     "data": {
      "text/plain": [
       "<keras.src.callbacks.history.History at 0x218ac077b20>"
      ]
     },
     "execution_count": 17,
     "metadata": {},
     "output_type": "execute_result"
    }
   ],
   "source": [
    "# Modelo NN\n",
    "model = Sequential([\n",
    "    Dense(64, input_shape=(X_train.shape[1],), activation='relu'),\n",
    "    Dense(32, activation='relu'),\n",
    "    Dense(1, activation='sigmoid')\n",
    "])\n",
    "\n",
    "model.compile(optimizer='adam', loss='binary_crossentropy', metrics=['accuracy'])\n",
    "model.fit(X_train, y_train, epochs=10, batch_size=32, validation_split=0.1)\n"
   ]
  },
  {
   "cell_type": "markdown",
   "id": "00be6ef0",
   "metadata": {},
   "source": [
    "## Evaluación del modelo NN\n",
    "\n",
    "#### Qué hace:\n",
    "Evalúa el modelo sobre el conjunto de test.\n",
    "\n",
    "#### Técnicas:\n",
    "Evaluación final con métricas estándar (accuracy y loss)"
   ]
  },
  {
   "cell_type": "code",
   "execution_count": 18,
   "id": "7c6aa747",
   "metadata": {},
   "outputs": [
    {
     "name": "stdout",
     "output_type": "stream",
     "text": [
      "\u001b[1m78/78\u001b[0m \u001b[32m━━━━━━━━━━━━━━━━━━━━\u001b[0m\u001b[37m\u001b[0m \u001b[1m0s\u001b[0m 2ms/step - accuracy: 0.8901 - loss: 0.2575\n",
      "Accuracy NN: 0.8913\n"
     ]
    }
   ],
   "source": [
    "# Evaluar\n",
    "loss, acc = model.evaluate(X_test, y_test)\n",
    "print(f\"Accuracy NN: {acc:.4f}\")"
   ]
  },
  {
   "cell_type": "markdown",
   "id": "57ea1e54",
   "metadata": {},
   "source": [
    "## Predicción de nuevo sample\n",
    "\n",
    "#### Qué hace:\n",
    "Define una función para predecir nuevos ejemplos individuales con cualquier modelo (RF o NN), asegurando que el input sea transformado igual que los datos de entrenamiento.\n",
    "\n",
    "#### Técnicas:\n",
    "\n",
    "- Manipulación de diccionarios/DataFrames\n",
    "\n",
    "- Transformación consistente\n",
    "\n",
    "- Generalización de predicción"
   ]
  },
  {
   "cell_type": "code",
   "execution_count": 19,
   "id": "86341805",
   "metadata": {},
   "outputs": [
    {
     "name": "stdout",
     "output_type": "stream",
     "text": [
      "\u001b[1m1/1\u001b[0m \u001b[32m━━━━━━━━━━━━━━━━━━━━\u001b[0m\u001b[37m\u001b[0m \u001b[1m0s\u001b[0m 78ms/step\n",
      "Predicción NN: 0.0003476741\n"
     ]
    },
    {
     "name": "stderr",
     "output_type": "stream",
     "text": [
      "c:\\Users\\dcpor\\AppData\\Local\\Programs\\Python\\Python310\\lib\\site-packages\\sklearn\\utils\\validation.py:2739: UserWarning: X does not have valid feature names, but StandardScaler was fitted with feature names\n",
      "  warnings.warn(\n"
     ]
    }
   ],
   "source": [
    "def predecir_sample(sample_dict, modelo, scaler):\n",
    "    sample_df = pd.DataFrame([sample_dict])\n",
    "    sample_df = pd.get_dummies(sample_df)\n",
    "    sample_df = sample_df.reindex(columns=X.columns, fill_value=0)\n",
    "    scaled = scaler.transform(sample_df)\n",
    "    pred = modelo.predict(scaled)\n",
    "    return pred[0]\n",
    "\n",
    "# Ejemplo con NN\n",
    "nn_pred = model.predict(scaler.transform([list(nuevo_sample.values())]))\n",
    "print(\"Predicción NN:\", nn_pred[0][0])\n"
   ]
  }
 ],
 "metadata": {
  "kernelspec": {
   "display_name": "Python 3",
   "language": "python",
   "name": "python3"
  },
  "language_info": {
   "codemirror_mode": {
    "name": "ipython",
    "version": 3
   },
   "file_extension": ".py",
   "mimetype": "text/x-python",
   "name": "python",
   "nbconvert_exporter": "python",
   "pygments_lexer": "ipython3",
   "version": "3.10.0"
  }
 },
 "nbformat": 4,
 "nbformat_minor": 5
}
